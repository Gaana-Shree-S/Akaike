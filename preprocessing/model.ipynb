{
  "nbformat": 4,
  "nbformat_minor": 0,
  "metadata": {
    "colab": {
      "provenance": []
    },
    "kernelspec": {
      "name": "python3",
      "display_name": "Python 3"
    },
    "language_info": {
      "name": "python"
    }
  },
  "cells": [
    {
      "source": [
        "import pandas as pd\n",
        "from sklearn.model_selection import train_test_split\n",
        "from sklearn.feature_extraction.text import TfidfVectorizer\n",
        "\n",
        "df = pd.read_csv(\"/content/drive/MyDrive/AKAIKE/output.csv\")\n",
        "\n",
        "X = df.iloc[:, 0]\n",
        "\n",
        "y = df.iloc[:, 1]\n",
        "\n",
        "vectorizer = TfidfVectorizer(stop_words='english', max_features=5000)\n",
        "X_vec = vectorizer.fit_transform(X)\n",
        "\n",
        "X_train, X_test, y_train, y_test = train_test_split(X_vec, y, test_size=0.2, random_state=42)"
      ],
      "cell_type": "code",
      "metadata": {
        "id": "Xln2NGzbB4i4"
      },
      "execution_count": null,
      "outputs": []
    },
    {
      "cell_type": "code",
      "source": [
        "#NAIVE BAYES\n",
        "from sklearn.naive_bayes import MultinomialNB\n",
        "from sklearn.metrics import classification_report\n",
        "\n",
        "nb = MultinomialNB()\n",
        "nb.fit(X_train, y_train)\n",
        "y_pred_nb = nb.predict(X_test)\n",
        "print(\"Naïve Bayes:\\n\", classification_report(y_test, y_pred_nb))"
      ],
      "metadata": {
        "colab": {
          "base_uri": "https://localhost:8080/"
        },
        "id": "dEyfiq-YCC7d",
        "outputId": "4c8fd053-0d8b-48e6-ff92-16350268daf4"
      },
      "execution_count": null,
      "outputs": [
        {
          "output_type": "stream",
          "name": "stdout",
          "text": [
            "Naïve Bayes:\n",
            "               precision    recall  f1-score   support\n",
            "\n",
            "      Change       0.87      0.58      0.70       479\n",
            "    Incident       0.65      0.92      0.76      1920\n",
            "     Problem       0.45      0.14      0.22      1009\n",
            "     Request       0.87      0.90      0.89      1392\n",
            "\n",
            "    accuracy                           0.72      4800\n",
            "   macro avg       0.71      0.64      0.64      4800\n",
            "weighted avg       0.69      0.72      0.68      4800\n",
            "\n"
          ]
        }
      ]
    },
    {
      "cell_type": "code",
      "source": [
        "#LINEAR SVM\n",
        "from sklearn.svm import LinearSVC\n",
        "\n",
        "svm = LinearSVC()\n",
        "svm.fit(X_train, y_train)\n",
        "y_pred_svm = svm.predict(X_test)\n",
        "print(\"SVM:\\n\", classification_report(y_test, y_pred_svm))"
      ],
      "metadata": {
        "colab": {
          "base_uri": "https://localhost:8080/"
        },
        "id": "hvDvNv5lCEw5",
        "outputId": "dd9ec346-7c55-4a8c-ef75-497606e1ccd1"
      },
      "execution_count": null,
      "outputs": [
        {
          "output_type": "stream",
          "name": "stdout",
          "text": [
            "SVM:\n",
            "               precision    recall  f1-score   support\n",
            "\n",
            "      Change       0.90      0.82      0.86       479\n",
            "    Incident       0.70      0.80      0.75      1920\n",
            "     Problem       0.52      0.39      0.45      1009\n",
            "     Request       0.92      0.93      0.92      1392\n",
            "\n",
            "    accuracy                           0.75      4800\n",
            "   macro avg       0.76      0.73      0.74      4800\n",
            "weighted avg       0.75      0.75      0.75      4800\n",
            "\n"
          ]
        }
      ]
    },
    {
      "cell_type": "code",
      "source": [
        "#DECISION TREE\n",
        "from sklearn.tree import DecisionTreeClassifier\n",
        "\n",
        "dt = DecisionTreeClassifier()\n",
        "dt.fit(X_train, y_train)\n",
        "y_pred_dt = dt.predict(X_test)\n",
        "print(\"Decision Tree:\\n\", classification_report(y_test, y_pred_dt))"
      ],
      "metadata": {
        "colab": {
          "base_uri": "https://localhost:8080/"
        },
        "id": "EisvrO58CIKs",
        "outputId": "c4eef0c6-cc41-4e20-952c-5963d205715d"
      },
      "execution_count": null,
      "outputs": [
        {
          "output_type": "stream",
          "name": "stdout",
          "text": [
            "Decision Tree:\n",
            "               precision    recall  f1-score   support\n",
            "\n",
            "      Change       0.61      0.61      0.61       479\n",
            "    Incident       0.66      0.68      0.67      1920\n",
            "     Problem       0.42      0.40      0.41      1009\n",
            "     Request       0.82      0.82      0.82      1392\n",
            "\n",
            "    accuracy                           0.65      4800\n",
            "   macro avg       0.63      0.63      0.63      4800\n",
            "weighted avg       0.65      0.65      0.65      4800\n",
            "\n"
          ]
        }
      ]
    },
    {
      "cell_type": "code",
      "source": [
        "#RANDOM FOREST\n",
        "from sklearn.ensemble import RandomForestClassifier\n",
        "\n",
        "rf = RandomForestClassifier(n_estimators=100)\n",
        "rf.fit(X_train, y_train)\n",
        "y_pred_rf = rf.predict(X_test)\n",
        "print(\"Random Forest:\\n\", classification_report(y_test, y_pred_rf))"
      ],
      "metadata": {
        "colab": {
          "base_uri": "https://localhost:8080/"
        },
        "id": "sZgtn-gACLLf",
        "outputId": "884a2422-9ee6-41f4-c674-7bd074fef392"
      },
      "execution_count": null,
      "outputs": [
        {
          "output_type": "stream",
          "name": "stdout",
          "text": [
            "Random Forest:\n",
            "               precision    recall  f1-score   support\n",
            "\n",
            "      Change       0.95      0.63      0.76       479\n",
            "    Incident       0.66      0.97      0.79      1920\n",
            "     Problem       0.87      0.16      0.26      1009\n",
            "     Request       0.87      0.92      0.89      1392\n",
            "\n",
            "    accuracy                           0.75      4800\n",
            "   macro avg       0.84      0.67      0.68      4800\n",
            "weighted avg       0.79      0.75      0.71      4800\n",
            "\n"
          ]
        }
      ]
    },
    {
      "cell_type": "code",
      "source": [
        "#GRID SEARCH\n",
        "from sklearn.naive_bayes import MultinomialNB\n",
        "from sklearn.model_selection import GridSearchCV\n",
        "from sklearn.metrics import classification_report\n",
        "\n",
        "param_grid = {'alpha': [0.1, 0.5, 1.0]}\n",
        "grid = GridSearchCV(MultinomialNB(), param_grid, cv=5, scoring='accuracy')\n",
        "grid.fit(X_train, y_train)\n",
        "print(\"Best Naïve Bayes params:\", grid.best_params_)\n",
        "y_pred = grid.best_estimator_.predict(X_test)\n",
        "print(\"\\nClassification Report:\\n\")\n",
        "print(classification_report(y_test, y_pred))"
      ],
      "metadata": {
        "colab": {
          "base_uri": "https://localhost:8080/"
        },
        "id": "MetWyhJ7CkS3",
        "outputId": "37c4655b-481c-46e3-c78c-21df6eb5e1d8"
      },
      "execution_count": null,
      "outputs": [
        {
          "output_type": "stream",
          "name": "stdout",
          "text": [
            "Best Naïve Bayes params: {'alpha': 0.1}\n",
            "\n",
            "Classification Report:\n",
            "\n",
            "              precision    recall  f1-score   support\n",
            "\n",
            "      Change       0.90      0.71      0.79       479\n",
            "    Incident       0.67      0.91      0.77      1920\n",
            "     Problem       0.52      0.23      0.32      1009\n",
            "     Request       0.90      0.90      0.90      1392\n",
            "\n",
            "    accuracy                           0.74      4800\n",
            "   macro avg       0.75      0.69      0.70      4800\n",
            "weighted avg       0.73      0.74      0.72      4800\n",
            "\n"
          ]
        }
      ]
    },
    {
      "cell_type": "code",
      "source": [
        "#COMBINATION OF MULTIPLE MODELS\n",
        "from sklearn.ensemble import VotingClassifier\n",
        "\n",
        "ensemble = VotingClassifier(estimators=[\n",
        "    ('nb', MultinomialNB()),\n",
        "    ('rf', RandomForestClassifier(n_estimators=100)),\n",
        "    ('svm', LinearSVC())\n",
        "], voting='hard')\n",
        "\n",
        "ensemble.fit(X_train, y_train)\n",
        "print(\"Ensemble Accuracy:\", ensemble.score(X_test, y_test))\n"
      ],
      "metadata": {
        "colab": {
          "base_uri": "https://localhost:8080/"
        },
        "id": "CQpe1eeVDb6w",
        "outputId": "e5c56482-da9d-4250-cdc0-339af0166402"
      },
      "execution_count": null,
      "outputs": [
        {
          "output_type": "stream",
          "name": "stdout",
          "text": [
            "Ensemble Accuracy: 0.753125\n"
          ]
        }
      ]
    }
  ]
}